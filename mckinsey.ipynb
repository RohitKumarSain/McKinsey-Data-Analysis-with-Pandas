{
 "cells": [
  {
   "cell_type": "markdown",
   "id": "2dc5b750",
   "metadata": {},
   "source": [
    "`Global Insights`\n",
    "- What is the average global life expectancy for each year?\n",
    "\n",
    "- What is the average global GDP per capita for each year?\n",
    "\n",
    "- What is the total global population for each year?\n",
    "\n",
    "- In which year was the highest global life expectancy recorded?\n",
    "\n",
    "- In which year was the lowest global GDP per capita recorded?\n",
    "\n",
    "`Continent-Level Insights`\n",
    "- What is the average life expectancy per continent over the years?\n",
    "\n",
    "- What is the average GDP per capita per continent over the years?\n",
    "\n",
    "- Which continent had the highest population in 2007?\n",
    "\n",
    "`Country-Level Insights`\n",
    "- What is the average life expectancy for each country across all years?\n",
    "\n",
    "- What is the average GDP per capita for each country?\n",
    "\n",
    "- Which country had the highest life expectancy in 2007?\n",
    "\n",
    "- Which country had the lowest GDP per capita in 1992?\n",
    "\n",
    "- What is the total population for each country in 2007?\n",
    "\n",
    "`Growth and Trend Analysis`\n",
    "- Which countries saw a significant increase in life expectancy from 1952 to 2007?\n",
    "\n",
    "`Comparative Insights`\n",
    "\n",
    "- Compare countries in Asia vs. Europe in terms of average life expectancy.\n",
    "\n",
    "- How many countries never had a GDP per capita > $1000 in any year?\n",
    "\n",
    "- Are there any countries with life expectancy below 40 years in 2007?\n"
   ]
  },
  {
   "cell_type": "markdown",
   "id": "cd66c0d2",
   "metadata": {},
   "source": [
    "Import Necessary Liberaries"
   ]
  },
  {
   "cell_type": "code",
   "execution_count": 1,
   "id": "ccadfd66",
   "metadata": {},
   "outputs": [],
   "source": [
    "import pandas as pd\n",
    "import numpy as np"
   ]
  },
  {
   "cell_type": "markdown",
   "id": "bc199f8d",
   "metadata": {},
   "source": [
    "Read the Raw Data"
   ]
  },
  {
   "cell_type": "code",
   "execution_count": 2,
   "id": "67273af5",
   "metadata": {},
   "outputs": [
    {
     "data": {
      "text/html": [
       "<div>\n",
       "<style scoped>\n",
       "    .dataframe tbody tr th:only-of-type {\n",
       "        vertical-align: middle;\n",
       "    }\n",
       "\n",
       "    .dataframe tbody tr th {\n",
       "        vertical-align: top;\n",
       "    }\n",
       "\n",
       "    .dataframe thead th {\n",
       "        text-align: right;\n",
       "    }\n",
       "</style>\n",
       "<table border=\"1\" class=\"dataframe\">\n",
       "  <thead>\n",
       "    <tr style=\"text-align: right;\">\n",
       "      <th></th>\n",
       "      <th>country</th>\n",
       "      <th>year</th>\n",
       "      <th>population</th>\n",
       "      <th>continent</th>\n",
       "      <th>life_exp</th>\n",
       "      <th>gdp_cap</th>\n",
       "    </tr>\n",
       "  </thead>\n",
       "  <tbody>\n",
       "    <tr>\n",
       "      <th>0</th>\n",
       "      <td>Afghanistan</td>\n",
       "      <td>1952</td>\n",
       "      <td>8425333</td>\n",
       "      <td>Asia</td>\n",
       "      <td>28.801</td>\n",
       "      <td>779.445314</td>\n",
       "    </tr>\n",
       "    <tr>\n",
       "      <th>1</th>\n",
       "      <td>Afghanistan</td>\n",
       "      <td>1957</td>\n",
       "      <td>9240934</td>\n",
       "      <td>Asia</td>\n",
       "      <td>30.332</td>\n",
       "      <td>820.853030</td>\n",
       "    </tr>\n",
       "    <tr>\n",
       "      <th>2</th>\n",
       "      <td>Afghanistan</td>\n",
       "      <td>1962</td>\n",
       "      <td>10267083</td>\n",
       "      <td>Asia</td>\n",
       "      <td>31.997</td>\n",
       "      <td>853.100710</td>\n",
       "    </tr>\n",
       "    <tr>\n",
       "      <th>3</th>\n",
       "      <td>Afghanistan</td>\n",
       "      <td>1967</td>\n",
       "      <td>11537966</td>\n",
       "      <td>Asia</td>\n",
       "      <td>34.020</td>\n",
       "      <td>836.197138</td>\n",
       "    </tr>\n",
       "    <tr>\n",
       "      <th>4</th>\n",
       "      <td>Afghanistan</td>\n",
       "      <td>1972</td>\n",
       "      <td>13079460</td>\n",
       "      <td>Asia</td>\n",
       "      <td>36.088</td>\n",
       "      <td>739.981106</td>\n",
       "    </tr>\n",
       "  </tbody>\n",
       "</table>\n",
       "</div>"
      ],
      "text/plain": [
       "       country  year  population continent  life_exp     gdp_cap\n",
       "0  Afghanistan  1952     8425333      Asia    28.801  779.445314\n",
       "1  Afghanistan  1957     9240934      Asia    30.332  820.853030\n",
       "2  Afghanistan  1962    10267083      Asia    31.997  853.100710\n",
       "3  Afghanistan  1967    11537966      Asia    34.020  836.197138\n",
       "4  Afghanistan  1972    13079460      Asia    36.088  739.981106"
      ]
     },
     "execution_count": 2,
     "metadata": {},
     "output_type": "execute_result"
    }
   ],
   "source": [
    "data = pd.read_csv(\"mckinsey.csv\") #import the data \n",
    "data.head() #shows dataframe for 5 rows"
   ]
  },
  {
   "cell_type": "markdown",
   "id": "d85dbc3d",
   "metadata": {},
   "source": [
    "Data Inspection"
   ]
  },
  {
   "cell_type": "code",
   "execution_count": 3,
   "id": "eee0fdd7",
   "metadata": {},
   "outputs": [
    {
     "name": "stdout",
     "output_type": "stream",
     "text": [
      "<class 'pandas.core.frame.DataFrame'>\n",
      "RangeIndex: 1704 entries, 0 to 1703\n",
      "Data columns (total 6 columns):\n",
      " #   Column      Non-Null Count  Dtype  \n",
      "---  ------      --------------  -----  \n",
      " 0   country     1704 non-null   object \n",
      " 1   year        1704 non-null   int64  \n",
      " 2   population  1704 non-null   int64  \n",
      " 3   continent   1704 non-null   object \n",
      " 4   life_exp    1703 non-null   float64\n",
      " 5   gdp_cap     1704 non-null   float64\n",
      "dtypes: float64(2), int64(2), object(2)\n",
      "memory usage: 80.0+ KB\n"
     ]
    }
   ],
   "source": [
    "data.info()"
   ]
  },
  {
   "cell_type": "code",
   "execution_count": 4,
   "id": "90c4482b",
   "metadata": {},
   "outputs": [
    {
     "data": {
      "text/html": [
       "<div>\n",
       "<style scoped>\n",
       "    .dataframe tbody tr th:only-of-type {\n",
       "        vertical-align: middle;\n",
       "    }\n",
       "\n",
       "    .dataframe tbody tr th {\n",
       "        vertical-align: top;\n",
       "    }\n",
       "\n",
       "    .dataframe thead th {\n",
       "        text-align: right;\n",
       "    }\n",
       "</style>\n",
       "<table border=\"1\" class=\"dataframe\">\n",
       "  <thead>\n",
       "    <tr style=\"text-align: right;\">\n",
       "      <th></th>\n",
       "      <th>year</th>\n",
       "      <th>population</th>\n",
       "      <th>life_exp</th>\n",
       "      <th>gdp_cap</th>\n",
       "    </tr>\n",
       "  </thead>\n",
       "  <tbody>\n",
       "    <tr>\n",
       "      <th>count</th>\n",
       "      <td>1704.00000</td>\n",
       "      <td>1.704000e+03</td>\n",
       "      <td>1703.000000</td>\n",
       "      <td>1704.000000</td>\n",
       "    </tr>\n",
       "    <tr>\n",
       "      <th>mean</th>\n",
       "      <td>1979.50000</td>\n",
       "      <td>2.960121e+07</td>\n",
       "      <td>59.483627</td>\n",
       "      <td>7215.327081</td>\n",
       "    </tr>\n",
       "    <tr>\n",
       "      <th>std</th>\n",
       "      <td>17.26533</td>\n",
       "      <td>1.061579e+08</td>\n",
       "      <td>12.915331</td>\n",
       "      <td>9857.454543</td>\n",
       "    </tr>\n",
       "    <tr>\n",
       "      <th>min</th>\n",
       "      <td>1952.00000</td>\n",
       "      <td>6.001100e+04</td>\n",
       "      <td>23.599000</td>\n",
       "      <td>241.165876</td>\n",
       "    </tr>\n",
       "    <tr>\n",
       "      <th>25%</th>\n",
       "      <td>1965.75000</td>\n",
       "      <td>2.793664e+06</td>\n",
       "      <td>48.228000</td>\n",
       "      <td>1202.060309</td>\n",
       "    </tr>\n",
       "    <tr>\n",
       "      <th>50%</th>\n",
       "      <td>1979.50000</td>\n",
       "      <td>7.023596e+06</td>\n",
       "      <td>60.765000</td>\n",
       "      <td>3531.846988</td>\n",
       "    </tr>\n",
       "    <tr>\n",
       "      <th>75%</th>\n",
       "      <td>1993.25000</td>\n",
       "      <td>1.958522e+07</td>\n",
       "      <td>70.846000</td>\n",
       "      <td>9325.462346</td>\n",
       "    </tr>\n",
       "    <tr>\n",
       "      <th>max</th>\n",
       "      <td>2007.00000</td>\n",
       "      <td>1.318683e+09</td>\n",
       "      <td>82.603000</td>\n",
       "      <td>113523.132900</td>\n",
       "    </tr>\n",
       "  </tbody>\n",
       "</table>\n",
       "</div>"
      ],
      "text/plain": [
       "             year    population     life_exp        gdp_cap\n",
       "count  1704.00000  1.704000e+03  1703.000000    1704.000000\n",
       "mean   1979.50000  2.960121e+07    59.483627    7215.327081\n",
       "std      17.26533  1.061579e+08    12.915331    9857.454543\n",
       "min    1952.00000  6.001100e+04    23.599000     241.165876\n",
       "25%    1965.75000  2.793664e+06    48.228000    1202.060309\n",
       "50%    1979.50000  7.023596e+06    60.765000    3531.846988\n",
       "75%    1993.25000  1.958522e+07    70.846000    9325.462346\n",
       "max    2007.00000  1.318683e+09    82.603000  113523.132900"
      ]
     },
     "execution_count": 4,
     "metadata": {},
     "output_type": "execute_result"
    }
   ],
   "source": [
    "data.describe()"
   ]
  },
  {
   "cell_type": "markdown",
   "id": "91896b33",
   "metadata": {},
   "source": [
    "Data Cleaning"
   ]
  },
  {
   "cell_type": "code",
   "execution_count": 5,
   "id": "e27e43ed",
   "metadata": {},
   "outputs": [
    {
     "data": {
      "text/plain": [
       "country       0\n",
       "year          0\n",
       "population    0\n",
       "continent     0\n",
       "life_exp      1\n",
       "gdp_cap       0\n",
       "dtype: int64"
      ]
     },
     "execution_count": 5,
     "metadata": {},
     "output_type": "execute_result"
    }
   ],
   "source": [
    "# Check Missing Values in data\n",
    "data.isnull().sum()"
   ]
  },
  {
   "cell_type": "code",
   "execution_count": 6,
   "id": "fbcff6a8",
   "metadata": {},
   "outputs": [
    {
     "name": "stderr",
     "output_type": "stream",
     "text": [
      "C:\\Users\\rohit\\AppData\\Local\\Temp\\ipykernel_20884\\3834009368.py:4: FutureWarning: A value is trying to be set on a copy of a DataFrame or Series through chained assignment using an inplace method.\n",
      "The behavior will change in pandas 3.0. This inplace method will never work because the intermediate object on which we are setting values always behaves as a copy.\n",
      "\n",
      "For example, when doing 'df[col].method(value, inplace=True)', try using 'df.method({col: value}, inplace=True)' or df[col] = df[col].method(value) instead, to perform the operation inplace on the original object.\n",
      "\n",
      "\n",
      "  data[\"life_exp\"].fillna(data[\"life_exp\"].mean(),inplace=True)\n"
     ]
    }
   ],
   "source": [
    "# As we see above 1 Null Value in life_exp\n",
    "# Fix this by using dropna() or fillna()\n",
    "\n",
    "data[\"life_exp\"].fillna(data[\"life_exp\"].mean(),inplace=True)"
   ]
  },
  {
   "cell_type": "code",
   "execution_count": 7,
   "id": "daac13f9",
   "metadata": {},
   "outputs": [
    {
     "data": {
      "text/plain": [
       "country       0\n",
       "year          0\n",
       "population    0\n",
       "continent     0\n",
       "life_exp      0\n",
       "gdp_cap       0\n",
       "dtype: int64"
      ]
     },
     "execution_count": 7,
     "metadata": {},
     "output_type": "execute_result"
    }
   ],
   "source": [
    "# Verify that is any null/none/missing value\n",
    "data.isnull().sum()"
   ]
  },
  {
   "cell_type": "code",
   "execution_count": 8,
   "id": "f5464d34",
   "metadata": {},
   "outputs": [
    {
     "data": {
      "text/plain": [
       "np.int64(0)"
      ]
     },
     "execution_count": 8,
     "metadata": {},
     "output_type": "execute_result"
    }
   ],
   "source": [
    "# Let's see is any duplicate data or not\n",
    "data.duplicated().sum()"
   ]
  },
  {
   "cell_type": "markdown",
   "id": "a6bde81e",
   "metadata": {},
   "source": [
    "Exploratory Data Analysis (EDA) for `Global Insights`\n",
    "\n",
    "- What is the average global life expectancy for each year?\n",
    "\n",
    "- What is the average global GDP per capita for each year?\n",
    "\n",
    "- What is the total global population for each year?\n",
    "\n",
    "- In which year was the highest global life expectancy recorded?\n",
    "\n",
    "- In which year was the lowest global GDP per capita recorded?"
   ]
  },
  {
   "cell_type": "code",
   "execution_count": 9,
   "id": "d02eed6c",
   "metadata": {},
   "outputs": [
    {
     "name": "stdout",
     "output_type": "stream",
     "text": [
      "Global Life Expenctancy for each year: \n",
      " year\n",
      "1952    49.057620\n",
      "1957    51.507401\n",
      "1962    53.609249\n",
      "1967    55.678290\n",
      "1972    57.647386\n",
      "1977    59.570157\n",
      "1982    61.533197\n",
      "1987    63.212613\n",
      "1992    64.160338\n",
      "1997    65.014676\n",
      "2002    65.694923\n",
      "2007    67.117673\n",
      "Name: life_exp, dtype: float64\n"
     ]
    }
   ],
   "source": [
    "# What is the average global life expenctancy for each year?\n",
    "avg_global_life_exp = data.groupby(\"year\")[\"life_exp\"].mean()\n",
    "print(\"Global Life Expenctancy for each year: \\n\",avg_global_life_exp)"
   ]
  },
  {
   "cell_type": "code",
   "execution_count": 10,
   "id": "b92c2056",
   "metadata": {},
   "outputs": [
    {
     "name": "stdout",
     "output_type": "stream",
     "text": [
      "Global GDP per capita for each year: \n",
      " year\n",
      "1952    49.057620\n",
      "1957    51.507401\n",
      "1962    53.609249\n",
      "1967    55.678290\n",
      "1972    57.647386\n",
      "1977    59.570157\n",
      "1982    61.533197\n",
      "1987    63.212613\n",
      "1992    64.160338\n",
      "1997    65.014676\n",
      "2002    65.694923\n",
      "2007    67.117673\n",
      "Name: life_exp, dtype: float64\n"
     ]
    }
   ],
   "source": [
    "# What is the average global GDP per capita for each year?\n",
    "avg_global_gdp_cap = data.groupby(\"year\")[\"life_exp\"].mean()\n",
    "print(\"Global GDP per capita for each year: \\n\",avg_global_gdp_cap)"
   ]
  },
  {
   "cell_type": "code",
   "execution_count": 11,
   "id": "18947237",
   "metadata": {},
   "outputs": [
    {
     "name": "stdout",
     "output_type": "stream",
     "text": [
      "Total Gloabl Population each year: \n",
      " year\n",
      "1952    2406957150\n",
      "1957    2664404580\n",
      "1962    2899782974\n",
      "1967    3217478384\n",
      "1972    3576977158\n",
      "1977    3930045807\n",
      "1982    4289436840\n",
      "1987    4691477418\n",
      "1992    5110710260\n",
      "1997    5515204472\n",
      "2002    5886977579\n",
      "2007    6251013179\n",
      "Name: population, dtype: int64\n"
     ]
    }
   ],
   "source": [
    "# What is the total global population for each year?\n",
    "total_global_population = data.groupby(\"year\")[\"population\"].sum()\n",
    "print(\"Total Gloabl Population each year: \\n\",total_global_population)"
   ]
  },
  {
   "cell_type": "code",
   "execution_count": 12,
   "id": "d1a5dbe8",
   "metadata": {},
   "outputs": [
    {
     "name": "stdout",
     "output_type": "stream",
     "text": [
      "The highest global life expectancy : 82.603 in year 2007\n"
     ]
    }
   ],
   "source": [
    "# In which year was the highest global life expectancy recorded?\n",
    "highest_life_exp = data.groupby(\"year\")[\"life_exp\"].max()\n",
    "print(\"The highest global life expectancy :\",highest_life_exp.max(),\"in year\",data[\"year\"][highest_life_exp.argmax()])"
   ]
  },
  {
   "cell_type": "code",
   "execution_count": 13,
   "id": "67bba4dc",
   "metadata": {},
   "outputs": [
    {
     "name": "stdout",
     "output_type": "stream",
     "text": [
      "The highest global life expectancy : 241.1658765 in year 2002\n"
     ]
    }
   ],
   "source": [
    "# In which year was the lowest global GDP per capita recorded?\n",
    "lowest_gloabl_gdp_cap = data.groupby(\"year\")[\"gdp_cap\"].min()\n",
    "print(\"The highest global life expectancy :\",lowest_gloabl_gdp_cap.min(),\"in year\", data[\"year\"][lowest_gloabl_gdp_cap.argmin()])"
   ]
  },
  {
   "cell_type": "markdown",
   "id": "21ade6ae",
   "metadata": {},
   "source": [
    "`Continent-Level Insights`\n",
    "- What is the average life expectancy per continent over the years?\n",
    "\n",
    "- What is the average GDP per capita per continent over the years?\n",
    "\n",
    "- Which continent had the highest population in 2007?\n",
    "\n",
    "- How does life expectancy vary by continent in a specific year (e.g., 2002)?\n",
    "\n",
    "- What is the trend of GDP per capita for each continent over time?"
   ]
  },
  {
   "cell_type": "code",
   "execution_count": 14,
   "id": "1bab2fbd",
   "metadata": {},
   "outputs": [
    {
     "data": {
      "text/plain": [
       "continent\n",
       "Africa      48.865330\n",
       "Americas    64.658737\n",
       "Asia        60.104438\n",
       "Europe      71.903686\n",
       "Oceania     74.326208\n",
       "Name: life_exp, dtype: float64"
      ]
     },
     "execution_count": 14,
     "metadata": {},
     "output_type": "execute_result"
    }
   ],
   "source": [
    "# What is the average life expectancy per continent over the years?\n",
    "avg_life_exp_per_continent = data.groupby(\"continent\")[\"life_exp\"].mean()\n",
    "avg_life_exp_per_continent"
   ]
  },
  {
   "cell_type": "code",
   "execution_count": 15,
   "id": "9651cb2e",
   "metadata": {},
   "outputs": [
    {
     "data": {
      "text/plain": [
       "continent\n",
       "Africa       2193.754578\n",
       "Americas     7136.110356\n",
       "Asia         7902.150428\n",
       "Europe      14469.475533\n",
       "Oceania     18621.609223\n",
       "Name: gdp_cap, dtype: float64"
      ]
     },
     "execution_count": 15,
     "metadata": {},
     "output_type": "execute_result"
    }
   ],
   "source": [
    "# What is the average GDP per capita per continent over the years?\n",
    "avg_gdp_cap_per_continent = data.groupby(\"continent\")[\"gdp_cap\"].mean()\n",
    "avg_gdp_cap_per_continent"
   ]
  },
  {
   "cell_type": "code",
   "execution_count": 16,
   "id": "a8e7734e",
   "metadata": {},
   "outputs": [
    {
     "data": {
      "text/plain": [
       "continent\n",
       "Africa       135031164\n",
       "Americas     301139947\n",
       "Asia        1318683096\n",
       "Europe        82400996\n",
       "Oceania       20434176\n",
       "Name: population, dtype: int64"
      ]
     },
     "execution_count": 16,
     "metadata": {},
     "output_type": "execute_result"
    }
   ],
   "source": [
    "# Which continent had the highest population in 2007?\n",
    "data[data[\"year\"]==2007].groupby(\"continent\")[\"population\"].max()"
   ]
  },
  {
   "cell_type": "markdown",
   "id": "9e5d5417",
   "metadata": {},
   "source": [
    "`Country-Level Insights`\n",
    "- What is the average life expectancy for each country across all years?\n",
    "\n",
    "- What is the average GDP per capita for each country?\n",
    "\n",
    "- Which country had the highest life expectancy in 2007?\n",
    "\n",
    "- Which country had the lowest GDP per capita in 1992?\n",
    "\n",
    "- What is the total population for each country in 2007?"
   ]
  },
  {
   "cell_type": "code",
   "execution_count": 17,
   "id": "35217cde",
   "metadata": {},
   "outputs": [
    {
     "data": {
      "text/plain": [
       "country\n",
       "Afghanistan           38.783469\n",
       "Albania               68.432917\n",
       "Algeria               59.030167\n",
       "Angola                37.883500\n",
       "Argentina             69.060417\n",
       "                        ...    \n",
       "Vietnam               57.479500\n",
       "West Bank and Gaza    60.328667\n",
       "Yemen, Rep.           46.780417\n",
       "Zambia                45.996333\n",
       "Zimbabwe              52.663167\n",
       "Name: life_exp, Length: 142, dtype: float64"
      ]
     },
     "execution_count": 17,
     "metadata": {},
     "output_type": "execute_result"
    }
   ],
   "source": [
    "# What is the average life expectancy for each country across all years?\n",
    "data.groupby(\"country\")[\"life_exp\"].mean()"
   ]
  },
  {
   "cell_type": "code",
   "execution_count": 18,
   "id": "c24f3725",
   "metadata": {},
   "outputs": [
    {
     "data": {
      "text/plain": [
       "country\n",
       "Afghanistan            802.674598\n",
       "Albania               3255.366633\n",
       "Algeria               4426.025973\n",
       "Angola                3607.100529\n",
       "Argentina             8955.553783\n",
       "                         ...     \n",
       "Vietnam               1017.712615\n",
       "West Bank and Gaza    3759.996781\n",
       "Yemen, Rep.           1569.274672\n",
       "Zambia                1358.199409\n",
       "Zimbabwe               635.858042\n",
       "Name: gdp_cap, Length: 142, dtype: float64"
      ]
     },
     "execution_count": 18,
     "metadata": {},
     "output_type": "execute_result"
    }
   ],
   "source": [
    "# What is the average GDP per capita for each country?\n",
    "data.groupby(\"country\")[\"gdp_cap\"].mean()"
   ]
  },
  {
   "cell_type": "code",
   "execution_count": 19,
   "id": "039ff803",
   "metadata": {},
   "outputs": [
    {
     "data": {
      "text/plain": [
       "country\n",
       "Afghanistan           59.483627\n",
       "Albania               76.423000\n",
       "Algeria               72.301000\n",
       "Angola                42.731000\n",
       "Argentina             75.320000\n",
       "                        ...    \n",
       "Vietnam               74.249000\n",
       "West Bank and Gaza    73.422000\n",
       "Yemen, Rep.           62.698000\n",
       "Zambia                42.384000\n",
       "Zimbabwe              43.487000\n",
       "Name: life_exp, Length: 142, dtype: float64"
      ]
     },
     "execution_count": 19,
     "metadata": {},
     "output_type": "execute_result"
    }
   ],
   "source": [
    "# Which country had the highest life expectancy in 2007?\n",
    "data[data[\"year\"]==2007].groupby(\"country\")[\"life_exp\"].max()"
   ]
  },
  {
   "cell_type": "code",
   "execution_count": 20,
   "id": "d582ba1b",
   "metadata": {},
   "outputs": [
    {
     "name": "stdout",
     "output_type": "stream",
     "text": [
      "Bahrain have 347.0 GDP per capita in 1992\n"
     ]
    }
   ],
   "source": [
    "# Which country had the lowest GDP per capita in 1992?\n",
    "lowest_gdp_cap = data[data[\"year\"]==1992][\"gdp_cap\"].min()\n",
    "lowest_gdp_cap_country = data[\"country\"][data[data[\"year\"]==1992][\"gdp_cap\"].argmin()]\n",
    "print(lowest_gdp_cap_country,\"have\",lowest_gdp_cap,\"GDP per capita in 1992\")"
   ]
  },
  {
   "cell_type": "code",
   "execution_count": 21,
   "id": "b2c9a172",
   "metadata": {},
   "outputs": [
    {
     "data": {
      "text/html": [
       "<div>\n",
       "<style scoped>\n",
       "    .dataframe tbody tr th:only-of-type {\n",
       "        vertical-align: middle;\n",
       "    }\n",
       "\n",
       "    .dataframe tbody tr th {\n",
       "        vertical-align: top;\n",
       "    }\n",
       "\n",
       "    .dataframe thead th {\n",
       "        text-align: right;\n",
       "    }\n",
       "</style>\n",
       "<table border=\"1\" class=\"dataframe\">\n",
       "  <thead>\n",
       "    <tr style=\"text-align: right;\">\n",
       "      <th></th>\n",
       "      <th>country</th>\n",
       "      <th>population</th>\n",
       "    </tr>\n",
       "  </thead>\n",
       "  <tbody>\n",
       "    <tr>\n",
       "      <th>11</th>\n",
       "      <td>Afghanistan</td>\n",
       "      <td>31889923</td>\n",
       "    </tr>\n",
       "    <tr>\n",
       "      <th>23</th>\n",
       "      <td>Albania</td>\n",
       "      <td>3600523</td>\n",
       "    </tr>\n",
       "    <tr>\n",
       "      <th>35</th>\n",
       "      <td>Algeria</td>\n",
       "      <td>33333216</td>\n",
       "    </tr>\n",
       "    <tr>\n",
       "      <th>47</th>\n",
       "      <td>Angola</td>\n",
       "      <td>12420476</td>\n",
       "    </tr>\n",
       "    <tr>\n",
       "      <th>59</th>\n",
       "      <td>Argentina</td>\n",
       "      <td>40301927</td>\n",
       "    </tr>\n",
       "    <tr>\n",
       "      <th>...</th>\n",
       "      <td>...</td>\n",
       "      <td>...</td>\n",
       "    </tr>\n",
       "    <tr>\n",
       "      <th>1655</th>\n",
       "      <td>Vietnam</td>\n",
       "      <td>85262356</td>\n",
       "    </tr>\n",
       "    <tr>\n",
       "      <th>1667</th>\n",
       "      <td>West Bank and Gaza</td>\n",
       "      <td>4018332</td>\n",
       "    </tr>\n",
       "    <tr>\n",
       "      <th>1679</th>\n",
       "      <td>Yemen, Rep.</td>\n",
       "      <td>22211743</td>\n",
       "    </tr>\n",
       "    <tr>\n",
       "      <th>1691</th>\n",
       "      <td>Zambia</td>\n",
       "      <td>11746035</td>\n",
       "    </tr>\n",
       "    <tr>\n",
       "      <th>1703</th>\n",
       "      <td>Zimbabwe</td>\n",
       "      <td>12311143</td>\n",
       "    </tr>\n",
       "  </tbody>\n",
       "</table>\n",
       "<p>142 rows × 2 columns</p>\n",
       "</div>"
      ],
      "text/plain": [
       "                 country  population\n",
       "11           Afghanistan    31889923\n",
       "23               Albania     3600523\n",
       "35               Algeria    33333216\n",
       "47                Angola    12420476\n",
       "59             Argentina    40301927\n",
       "...                  ...         ...\n",
       "1655             Vietnam    85262356\n",
       "1667  West Bank and Gaza     4018332\n",
       "1679         Yemen, Rep.    22211743\n",
       "1691              Zambia    11746035\n",
       "1703            Zimbabwe    12311143\n",
       "\n",
       "[142 rows x 2 columns]"
      ]
     },
     "execution_count": 21,
     "metadata": {},
     "output_type": "execute_result"
    }
   ],
   "source": [
    "# What is the total population for each country in 2007?\n",
    "data[data[\"year\"]==2007][[\"country\",\"population\"]]"
   ]
  },
  {
   "cell_type": "markdown",
   "id": "1f1b9a12",
   "metadata": {},
   "source": [
    "`Growth and Trend Analysis`\n",
    "- Which countries saw a significant increase in life expectancy from 1952 to 2007?"
   ]
  },
  {
   "cell_type": "code",
   "execution_count": 22,
   "id": "65564a30",
   "metadata": {},
   "outputs": [
    {
     "data": {
      "text/html": [
       "<div>\n",
       "<style scoped>\n",
       "    .dataframe tbody tr th:only-of-type {\n",
       "        vertical-align: middle;\n",
       "    }\n",
       "\n",
       "    .dataframe tbody tr th {\n",
       "        vertical-align: top;\n",
       "    }\n",
       "\n",
       "    .dataframe thead tr th {\n",
       "        text-align: left;\n",
       "    }\n",
       "\n",
       "    .dataframe thead tr:last-of-type th {\n",
       "        text-align: right;\n",
       "    }\n",
       "</style>\n",
       "<table border=\"1\" class=\"dataframe\">\n",
       "  <thead>\n",
       "    <tr>\n",
       "      <th></th>\n",
       "      <th colspan=\"2\" halign=\"left\">life_exp</th>\n",
       "      <th colspan=\"2\" halign=\"left\">year</th>\n",
       "    </tr>\n",
       "    <tr>\n",
       "      <th></th>\n",
       "      <th>max</th>\n",
       "      <th>min</th>\n",
       "      <th>max</th>\n",
       "      <th>min</th>\n",
       "    </tr>\n",
       "    <tr>\n",
       "      <th>country</th>\n",
       "      <th></th>\n",
       "      <th></th>\n",
       "      <th></th>\n",
       "      <th></th>\n",
       "    </tr>\n",
       "  </thead>\n",
       "  <tbody>\n",
       "    <tr>\n",
       "      <th>Afghanistan</th>\n",
       "      <td>59.483627</td>\n",
       "      <td>28.801</td>\n",
       "      <td>2007</td>\n",
       "      <td>1952</td>\n",
       "    </tr>\n",
       "    <tr>\n",
       "      <th>Albania</th>\n",
       "      <td>76.423000</td>\n",
       "      <td>55.230</td>\n",
       "      <td>2007</td>\n",
       "      <td>1952</td>\n",
       "    </tr>\n",
       "    <tr>\n",
       "      <th>Algeria</th>\n",
       "      <td>72.301000</td>\n",
       "      <td>43.077</td>\n",
       "      <td>2007</td>\n",
       "      <td>1952</td>\n",
       "    </tr>\n",
       "    <tr>\n",
       "      <th>Angola</th>\n",
       "      <td>42.731000</td>\n",
       "      <td>30.015</td>\n",
       "      <td>2007</td>\n",
       "      <td>1952</td>\n",
       "    </tr>\n",
       "    <tr>\n",
       "      <th>Argentina</th>\n",
       "      <td>75.320000</td>\n",
       "      <td>62.485</td>\n",
       "      <td>2007</td>\n",
       "      <td>1952</td>\n",
       "    </tr>\n",
       "    <tr>\n",
       "      <th>...</th>\n",
       "      <td>...</td>\n",
       "      <td>...</td>\n",
       "      <td>...</td>\n",
       "      <td>...</td>\n",
       "    </tr>\n",
       "    <tr>\n",
       "      <th>Vietnam</th>\n",
       "      <td>74.249000</td>\n",
       "      <td>40.412</td>\n",
       "      <td>2007</td>\n",
       "      <td>1952</td>\n",
       "    </tr>\n",
       "    <tr>\n",
       "      <th>West Bank and Gaza</th>\n",
       "      <td>73.422000</td>\n",
       "      <td>43.160</td>\n",
       "      <td>2007</td>\n",
       "      <td>1952</td>\n",
       "    </tr>\n",
       "    <tr>\n",
       "      <th>Yemen, Rep.</th>\n",
       "      <td>62.698000</td>\n",
       "      <td>32.548</td>\n",
       "      <td>2007</td>\n",
       "      <td>1952</td>\n",
       "    </tr>\n",
       "    <tr>\n",
       "      <th>Zambia</th>\n",
       "      <td>51.821000</td>\n",
       "      <td>39.193</td>\n",
       "      <td>2007</td>\n",
       "      <td>1952</td>\n",
       "    </tr>\n",
       "    <tr>\n",
       "      <th>Zimbabwe</th>\n",
       "      <td>62.351000</td>\n",
       "      <td>39.989</td>\n",
       "      <td>2007</td>\n",
       "      <td>1952</td>\n",
       "    </tr>\n",
       "  </tbody>\n",
       "</table>\n",
       "<p>142 rows × 4 columns</p>\n",
       "</div>"
      ],
      "text/plain": [
       "                     life_exp          year      \n",
       "                          max     min   max   min\n",
       "country                                          \n",
       "Afghanistan         59.483627  28.801  2007  1952\n",
       "Albania             76.423000  55.230  2007  1952\n",
       "Algeria             72.301000  43.077  2007  1952\n",
       "Angola              42.731000  30.015  2007  1952\n",
       "Argentina           75.320000  62.485  2007  1952\n",
       "...                       ...     ...   ...   ...\n",
       "Vietnam             74.249000  40.412  2007  1952\n",
       "West Bank and Gaza  73.422000  43.160  2007  1952\n",
       "Yemen, Rep.         62.698000  32.548  2007  1952\n",
       "Zambia              51.821000  39.193  2007  1952\n",
       "Zimbabwe            62.351000  39.989  2007  1952\n",
       "\n",
       "[142 rows x 4 columns]"
      ]
     },
     "execution_count": 22,
     "metadata": {},
     "output_type": "execute_result"
    }
   ],
   "source": [
    "\n",
    "data_agg =  data.groupby(\"country\")[[\"life_exp\",\"year\"]].agg({\"life_exp\":[\"max\",\"min\"],\"year\":[\"max\",\"min\"]})\n",
    "data_agg"
   ]
  },
  {
   "cell_type": "code",
   "execution_count": 23,
   "id": "86d4c6ce",
   "metadata": {},
   "outputs": [
    {
     "data": {
      "text/plain": [
       "MultiIndex([('life_exp', 'max'),\n",
       "            ('life_exp', 'min'),\n",
       "            (    'year', 'max'),\n",
       "            (    'year', 'min')],\n",
       "           )"
      ]
     },
     "execution_count": 23,
     "metadata": {},
     "output_type": "execute_result"
    }
   ],
   "source": [
    "data_agg.columns"
   ]
  },
  {
   "cell_type": "code",
   "execution_count": 24,
   "id": "dec994f2",
   "metadata": {},
   "outputs": [
    {
     "data": {
      "text/html": [
       "<div>\n",
       "<style scoped>\n",
       "    .dataframe tbody tr th:only-of-type {\n",
       "        vertical-align: middle;\n",
       "    }\n",
       "\n",
       "    .dataframe tbody tr th {\n",
       "        vertical-align: top;\n",
       "    }\n",
       "\n",
       "    .dataframe thead th {\n",
       "        text-align: right;\n",
       "    }\n",
       "</style>\n",
       "<table border=\"1\" class=\"dataframe\">\n",
       "  <thead>\n",
       "    <tr style=\"text-align: right;\">\n",
       "      <th></th>\n",
       "      <th>life_exp_max</th>\n",
       "      <th>life_exp_min</th>\n",
       "      <th>year_max</th>\n",
       "      <th>year_min</th>\n",
       "    </tr>\n",
       "    <tr>\n",
       "      <th>country</th>\n",
       "      <th></th>\n",
       "      <th></th>\n",
       "      <th></th>\n",
       "      <th></th>\n",
       "    </tr>\n",
       "  </thead>\n",
       "  <tbody>\n",
       "    <tr>\n",
       "      <th>Afghanistan</th>\n",
       "      <td>59.483627</td>\n",
       "      <td>28.801</td>\n",
       "      <td>2007</td>\n",
       "      <td>1952</td>\n",
       "    </tr>\n",
       "    <tr>\n",
       "      <th>Albania</th>\n",
       "      <td>76.423000</td>\n",
       "      <td>55.230</td>\n",
       "      <td>2007</td>\n",
       "      <td>1952</td>\n",
       "    </tr>\n",
       "    <tr>\n",
       "      <th>Algeria</th>\n",
       "      <td>72.301000</td>\n",
       "      <td>43.077</td>\n",
       "      <td>2007</td>\n",
       "      <td>1952</td>\n",
       "    </tr>\n",
       "    <tr>\n",
       "      <th>Angola</th>\n",
       "      <td>42.731000</td>\n",
       "      <td>30.015</td>\n",
       "      <td>2007</td>\n",
       "      <td>1952</td>\n",
       "    </tr>\n",
       "    <tr>\n",
       "      <th>Argentina</th>\n",
       "      <td>75.320000</td>\n",
       "      <td>62.485</td>\n",
       "      <td>2007</td>\n",
       "      <td>1952</td>\n",
       "    </tr>\n",
       "    <tr>\n",
       "      <th>...</th>\n",
       "      <td>...</td>\n",
       "      <td>...</td>\n",
       "      <td>...</td>\n",
       "      <td>...</td>\n",
       "    </tr>\n",
       "    <tr>\n",
       "      <th>Vietnam</th>\n",
       "      <td>74.249000</td>\n",
       "      <td>40.412</td>\n",
       "      <td>2007</td>\n",
       "      <td>1952</td>\n",
       "    </tr>\n",
       "    <tr>\n",
       "      <th>West Bank and Gaza</th>\n",
       "      <td>73.422000</td>\n",
       "      <td>43.160</td>\n",
       "      <td>2007</td>\n",
       "      <td>1952</td>\n",
       "    </tr>\n",
       "    <tr>\n",
       "      <th>Yemen, Rep.</th>\n",
       "      <td>62.698000</td>\n",
       "      <td>32.548</td>\n",
       "      <td>2007</td>\n",
       "      <td>1952</td>\n",
       "    </tr>\n",
       "    <tr>\n",
       "      <th>Zambia</th>\n",
       "      <td>51.821000</td>\n",
       "      <td>39.193</td>\n",
       "      <td>2007</td>\n",
       "      <td>1952</td>\n",
       "    </tr>\n",
       "    <tr>\n",
       "      <th>Zimbabwe</th>\n",
       "      <td>62.351000</td>\n",
       "      <td>39.989</td>\n",
       "      <td>2007</td>\n",
       "      <td>1952</td>\n",
       "    </tr>\n",
       "  </tbody>\n",
       "</table>\n",
       "<p>142 rows × 4 columns</p>\n",
       "</div>"
      ],
      "text/plain": [
       "                    life_exp_max  life_exp_min  year_max  year_min\n",
       "country                                                           \n",
       "Afghanistan            59.483627        28.801      2007      1952\n",
       "Albania                76.423000        55.230      2007      1952\n",
       "Algeria                72.301000        43.077      2007      1952\n",
       "Angola                 42.731000        30.015      2007      1952\n",
       "Argentina              75.320000        62.485      2007      1952\n",
       "...                          ...           ...       ...       ...\n",
       "Vietnam                74.249000        40.412      2007      1952\n",
       "West Bank and Gaza     73.422000        43.160      2007      1952\n",
       "Yemen, Rep.            62.698000        32.548      2007      1952\n",
       "Zambia                 51.821000        39.193      2007      1952\n",
       "Zimbabwe               62.351000        39.989      2007      1952\n",
       "\n",
       "[142 rows x 4 columns]"
      ]
     },
     "execution_count": 24,
     "metadata": {},
     "output_type": "execute_result"
    }
   ],
   "source": [
    "data_agg.columns = [\"_\".join(col) for col in data_agg.columns]\n",
    "data_agg"
   ]
  },
  {
   "cell_type": "code",
   "execution_count": 25,
   "id": "0844d2b3",
   "metadata": {},
   "outputs": [],
   "source": [
    "data_agg[\"Total_Life_Exp\"]= data_agg[\"life_exp_max\"] - data_agg[\"life_exp_min\"]"
   ]
  },
  {
   "cell_type": "code",
   "execution_count": 26,
   "id": "b78bfd01",
   "metadata": {},
   "outputs": [
    {
     "data": {
      "text/html": [
       "<div>\n",
       "<style scoped>\n",
       "    .dataframe tbody tr th:only-of-type {\n",
       "        vertical-align: middle;\n",
       "    }\n",
       "\n",
       "    .dataframe tbody tr th {\n",
       "        vertical-align: top;\n",
       "    }\n",
       "\n",
       "    .dataframe thead th {\n",
       "        text-align: right;\n",
       "    }\n",
       "</style>\n",
       "<table border=\"1\" class=\"dataframe\">\n",
       "  <thead>\n",
       "    <tr style=\"text-align: right;\">\n",
       "      <th></th>\n",
       "      <th>life_exp_max</th>\n",
       "      <th>life_exp_min</th>\n",
       "      <th>year_max</th>\n",
       "      <th>year_min</th>\n",
       "      <th>Total_Life_Exp</th>\n",
       "    </tr>\n",
       "    <tr>\n",
       "      <th>country</th>\n",
       "      <th></th>\n",
       "      <th></th>\n",
       "      <th></th>\n",
       "      <th></th>\n",
       "      <th></th>\n",
       "    </tr>\n",
       "  </thead>\n",
       "  <tbody>\n",
       "    <tr>\n",
       "      <th>Oman</th>\n",
       "      <td>75.640</td>\n",
       "      <td>37.578</td>\n",
       "      <td>2007</td>\n",
       "      <td>1952</td>\n",
       "      <td>38.062</td>\n",
       "    </tr>\n",
       "    <tr>\n",
       "      <th>Vietnam</th>\n",
       "      <td>74.249</td>\n",
       "      <td>40.412</td>\n",
       "      <td>2007</td>\n",
       "      <td>1952</td>\n",
       "      <td>33.837</td>\n",
       "    </tr>\n",
       "    <tr>\n",
       "      <th>Indonesia</th>\n",
       "      <td>70.650</td>\n",
       "      <td>37.468</td>\n",
       "      <td>2007</td>\n",
       "      <td>1952</td>\n",
       "      <td>33.182</td>\n",
       "    </tr>\n",
       "    <tr>\n",
       "      <th>Saudi Arabia</th>\n",
       "      <td>72.777</td>\n",
       "      <td>39.875</td>\n",
       "      <td>2007</td>\n",
       "      <td>1952</td>\n",
       "      <td>32.902</td>\n",
       "    </tr>\n",
       "    <tr>\n",
       "      <th>Libya</th>\n",
       "      <td>73.952</td>\n",
       "      <td>42.723</td>\n",
       "      <td>2007</td>\n",
       "      <td>1952</td>\n",
       "      <td>31.229</td>\n",
       "    </tr>\n",
       "    <tr>\n",
       "      <th>...</th>\n",
       "      <td>...</td>\n",
       "      <td>...</td>\n",
       "      <td>...</td>\n",
       "      <td>...</td>\n",
       "      <td>...</td>\n",
       "    </tr>\n",
       "    <tr>\n",
       "      <th>Congo, Dem. Rep.</th>\n",
       "      <td>47.804</td>\n",
       "      <td>39.143</td>\n",
       "      <td>2007</td>\n",
       "      <td>1952</td>\n",
       "      <td>8.661</td>\n",
       "    </tr>\n",
       "    <tr>\n",
       "      <th>Netherlands</th>\n",
       "      <td>79.762</td>\n",
       "      <td>72.130</td>\n",
       "      <td>2007</td>\n",
       "      <td>1952</td>\n",
       "      <td>7.632</td>\n",
       "    </tr>\n",
       "    <tr>\n",
       "      <th>Denmark</th>\n",
       "      <td>78.332</td>\n",
       "      <td>70.780</td>\n",
       "      <td>2007</td>\n",
       "      <td>1952</td>\n",
       "      <td>7.552</td>\n",
       "    </tr>\n",
       "    <tr>\n",
       "      <th>Liberia</th>\n",
       "      <td>46.027</td>\n",
       "      <td>38.480</td>\n",
       "      <td>2007</td>\n",
       "      <td>1952</td>\n",
       "      <td>7.547</td>\n",
       "    </tr>\n",
       "    <tr>\n",
       "      <th>Norway</th>\n",
       "      <td>80.196</td>\n",
       "      <td>72.670</td>\n",
       "      <td>2007</td>\n",
       "      <td>1952</td>\n",
       "      <td>7.526</td>\n",
       "    </tr>\n",
       "  </tbody>\n",
       "</table>\n",
       "<p>142 rows × 5 columns</p>\n",
       "</div>"
      ],
      "text/plain": [
       "                  life_exp_max  life_exp_min  year_max  year_min  \\\n",
       "country                                                            \n",
       "Oman                    75.640        37.578      2007      1952   \n",
       "Vietnam                 74.249        40.412      2007      1952   \n",
       "Indonesia               70.650        37.468      2007      1952   \n",
       "Saudi Arabia            72.777        39.875      2007      1952   \n",
       "Libya                   73.952        42.723      2007      1952   \n",
       "...                        ...           ...       ...       ...   \n",
       "Congo, Dem. Rep.        47.804        39.143      2007      1952   \n",
       "Netherlands             79.762        72.130      2007      1952   \n",
       "Denmark                 78.332        70.780      2007      1952   \n",
       "Liberia                 46.027        38.480      2007      1952   \n",
       "Norway                  80.196        72.670      2007      1952   \n",
       "\n",
       "                  Total_Life_Exp  \n",
       "country                           \n",
       "Oman                      38.062  \n",
       "Vietnam                   33.837  \n",
       "Indonesia                 33.182  \n",
       "Saudi Arabia              32.902  \n",
       "Libya                     31.229  \n",
       "...                          ...  \n",
       "Congo, Dem. Rep.           8.661  \n",
       "Netherlands                7.632  \n",
       "Denmark                    7.552  \n",
       "Liberia                    7.547  \n",
       "Norway                     7.526  \n",
       "\n",
       "[142 rows x 5 columns]"
      ]
     },
     "execution_count": 26,
     "metadata": {},
     "output_type": "execute_result"
    }
   ],
   "source": [
    "data_agg.sort_values(by=\"Total_Life_Exp\",ascending=False)"
   ]
  },
  {
   "cell_type": "code",
   "execution_count": 27,
   "id": "9055ea8c",
   "metadata": {},
   "outputs": [
    {
     "data": {
      "text/html": [
       "<div>\n",
       "<style scoped>\n",
       "    .dataframe tbody tr th:only-of-type {\n",
       "        vertical-align: middle;\n",
       "    }\n",
       "\n",
       "    .dataframe tbody tr th {\n",
       "        vertical-align: top;\n",
       "    }\n",
       "\n",
       "    .dataframe thead th {\n",
       "        text-align: right;\n",
       "    }\n",
       "</style>\n",
       "<table border=\"1\" class=\"dataframe\">\n",
       "  <thead>\n",
       "    <tr style=\"text-align: right;\">\n",
       "      <th></th>\n",
       "      <th>life_exp_max</th>\n",
       "      <th>life_exp_min</th>\n",
       "      <th>year_max</th>\n",
       "      <th>year_min</th>\n",
       "      <th>Total_Life_Exp</th>\n",
       "    </tr>\n",
       "    <tr>\n",
       "      <th>country</th>\n",
       "      <th></th>\n",
       "      <th></th>\n",
       "      <th></th>\n",
       "      <th></th>\n",
       "      <th></th>\n",
       "    </tr>\n",
       "  </thead>\n",
       "  <tbody>\n",
       "    <tr>\n",
       "      <th>Oman</th>\n",
       "      <td>75.64</td>\n",
       "      <td>37.578</td>\n",
       "      <td>2007</td>\n",
       "      <td>1952</td>\n",
       "      <td>38.062</td>\n",
       "    </tr>\n",
       "  </tbody>\n",
       "</table>\n",
       "</div>"
      ],
      "text/plain": [
       "         life_exp_max  life_exp_min  year_max  year_min  Total_Life_Exp\n",
       "country                                                                \n",
       "Oman            75.64        37.578      2007      1952          38.062"
      ]
     },
     "execution_count": 27,
     "metadata": {},
     "output_type": "execute_result"
    }
   ],
   "source": [
    "# Which countries saw a significant increase in life expectancy from 1952 to 2007\n",
    "data_agg.sort_values(by=\"Total_Life_Exp\",ascending=False).head(1)"
   ]
  },
  {
   "cell_type": "markdown",
   "id": "0c26d6d1",
   "metadata": {},
   "source": [
    "`Comparative Insights`\n",
    "\n",
    "- Compare countries in Asia vs. Europe in terms of average life expectancy.\n",
    "\n",
    "- How many countries never had a GDP per capita > $1000 in any year?\n",
    "\n",
    "- Are there any countries with life expectancy below 40 years in 2007?"
   ]
  },
  {
   "cell_type": "code",
   "execution_count": 28,
   "id": "128ed9df",
   "metadata": {},
   "outputs": [
    {
     "name": "stdout",
     "output_type": "stream",
     "text": [
      "country\n",
      "Afghanistan           38.783469\n",
      "Bahrain               65.605667\n",
      "Bangladesh            49.834083\n",
      "Cambodia              47.902750\n",
      "China                 61.785140\n",
      "Hong Kong, China      73.492833\n",
      "India                 53.166083\n",
      "Indonesia             54.335750\n",
      "Iran                  58.636583\n",
      "Iraq                  56.581750\n",
      "Israel                73.645833\n",
      "Japan                 74.826917\n",
      "Jordan                59.786417\n",
      "Korea, Dem. Rep.      63.607333\n",
      "Korea, Rep.           65.001000\n",
      "Kuwait                68.922333\n",
      "Lebanon               65.865667\n",
      "Malaysia              64.279583\n",
      "Mongolia              55.890333\n",
      "Myanmar               53.321667\n",
      "Nepal                 48.986333\n",
      "Oman                  58.442667\n",
      "Pakistan              54.882250\n",
      "Philippines           60.967250\n",
      "Saudi Arabia          58.678750\n",
      "Singapore             71.220250\n",
      "Sri Lanka             66.526083\n",
      "Syria                 61.346167\n",
      "Taiwan                70.336667\n",
      "Thailand              62.200250\n",
      "Vietnam               57.479500\n",
      "West Bank and Gaza    60.328667\n",
      "Yemen, Rep.           46.780417\n",
      "Name: life_exp, dtype: float64\n"
     ]
    }
   ],
   "source": [
    "# Compare countries in Asia vs. Europe in terms of average life expectancy.\n",
    "\n",
    "# For Asia\n",
    "print(data[data[\"continent\"]==\"Asia\"].groupby(\"country\")[\"life_exp\"].mean())\n"
   ]
  },
  {
   "cell_type": "code",
   "execution_count": 29,
   "id": "788f1513",
   "metadata": {},
   "outputs": [
    {
     "name": "stdout",
     "output_type": "stream",
     "text": [
      "country\n",
      "Albania                   68.432917\n",
      "Austria                   73.103250\n",
      "Belgium                   73.641750\n",
      "Bosnia and Herzegovina    67.707833\n",
      "Bulgaria                  69.743750\n",
      "Croatia                   70.055917\n",
      "Czech Republic            71.510500\n",
      "Denmark                   74.370167\n",
      "Finland                   72.991917\n",
      "France                    74.348917\n",
      "Germany                   73.444417\n",
      "Greece                    73.733167\n",
      "Hungary                   69.393167\n",
      "Iceland                   76.511417\n",
      "Ireland                   73.017250\n",
      "Italy                     74.013833\n",
      "Montenegro                70.299167\n",
      "Netherlands               75.648500\n",
      "Norway                    75.843000\n",
      "Poland                    70.176917\n",
      "Portugal                  70.419833\n",
      "Romania                   68.290667\n",
      "Serbia                    68.551000\n",
      "Slovak Republic           70.696083\n",
      "Slovenia                  71.600750\n",
      "Spain                     74.203417\n",
      "Sweden                    76.177000\n",
      "Switzerland               75.565083\n",
      "Turkey                    59.696417\n",
      "United Kingdom            73.922583\n",
      "Name: life_exp, dtype: float64\n"
     ]
    }
   ],
   "source": [
    "# For Europe\n",
    "print(data[data[\"continent\"]==\"Europe\"].groupby(\"country\")[\"life_exp\"].mean())"
   ]
  },
  {
   "cell_type": "code",
   "execution_count": 30,
   "id": "004ffb4d",
   "metadata": {},
   "outputs": [
    {
     "data": {
      "text/plain": [
       "continent\n",
       "Africa      48.865330\n",
       "Americas    64.658737\n",
       "Asia        60.104438\n",
       "Europe      71.903686\n",
       "Oceania     74.326208\n",
       "Name: life_exp, dtype: float64"
      ]
     },
     "execution_count": 30,
     "metadata": {},
     "output_type": "execute_result"
    }
   ],
   "source": [
    "df_cont = data.groupby(\"continent\")[\"life_exp\"].mean()\n",
    "df_cont"
   ]
  },
  {
   "cell_type": "code",
   "execution_count": 31,
   "id": "db36178b",
   "metadata": {},
   "outputs": [
    {
     "name": "stdout",
     "output_type": "stream",
     "text": [
      "Comarision between Europe and Asia in term of Avg Life Exp: 11.79924846732149 and Europe has higher.\n"
     ]
    }
   ],
   "source": [
    "if (df_cont[\"Asia\"]>df_cont[\"Europe\"]):\n",
    "    print(\"Comarision between Asia and Europe in term of Avg Life Exp:\", df_cont[\"Asia\"]-df_cont[\"Europe\"], \"and Asia has higher.\")\n",
    "else:\n",
    "    print(\"Comarision between Europe and Asia in term of Avg Life Exp:\", df_cont[\"Europe\"]-df_cont[\"Asia\"],\"and Europe has higher.\")"
   ]
  },
  {
   "cell_type": "code",
   "execution_count": 32,
   "id": "9a8a98b5",
   "metadata": {},
   "outputs": [
    {
     "name": "stdout",
     "output_type": "stream",
     "text": [
      "46 countries never had a GDP per capita > $1000 in any year.\n"
     ]
    }
   ],
   "source": [
    "# How many countries never had a GDP per capita > $1000 in any year?\n",
    "print(data[data[\"gdp_cap\"]<1000][\"country\"].nunique(), \"countries never had a GDP per capita > $1000 in any year.\")"
   ]
  },
  {
   "cell_type": "code",
   "execution_count": 33,
   "id": "739cf7b2",
   "metadata": {},
   "outputs": [
    {
     "name": "stdout",
     "output_type": "stream",
     "text": [
      "1 country with life expectancy below 40 years in 2007\n"
     ]
    }
   ],
   "source": [
    "# Are there any countries with life expectancy below 40 years in 2007?\n",
    "\n",
    "print((data[data[\"year\"]==2007][\"life_exp\"]<40).sum(),\"country with life expectancy below 40 years in 2007\")"
   ]
  }
 ],
 "metadata": {
  "kernelspec": {
   "display_name": "Python 3",
   "language": "python",
   "name": "python3"
  },
  "language_info": {
   "codemirror_mode": {
    "name": "ipython",
    "version": 3
   },
   "file_extension": ".py",
   "mimetype": "text/x-python",
   "name": "python",
   "nbconvert_exporter": "python",
   "pygments_lexer": "ipython3",
   "version": "3.13.3"
  }
 },
 "nbformat": 4,
 "nbformat_minor": 5
}
